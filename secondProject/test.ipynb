{
 "cells": [
  {
   "cell_type": "code",
   "execution_count": 4,
   "metadata": {},
   "outputs": [
    {
     "name": "stdout",
     "output_type": "stream",
     "text": [
      "Shuffled y_train: [2 1 4 3 0]\n",
      "Shuffled x_train_binary: [[1 1]\n",
      " [0 1]\n",
      " [1 0]\n",
      " [0 0]\n",
      " [1 0]]\n"
     ]
    }
   ],
   "source": [
    "import numpy as np\n",
    "\n",
    "# Assuming y_train and x_train_binary are your arrays\n",
    "y_train = np.array([0, 1, 2, 3, 4])\n",
    "x_train_binary = np.array([[1, 0], [0, 1], [1, 1], [0, 0], [1, 0]])\n",
    "\n",
    "# Create a permutation index\n",
    "permutation_index = np.random.permutation(len(y_train))\n",
    "\n",
    "# Use the permutation index to shuffle both arrays\n",
    "shuffled_y_train = y_train[permutation_index]\n",
    "shuffled_x_train_binary = x_train_binary[permutation_index]\n",
    "\n",
    "# Now, shuffled_y_train and shuffled_x_train_binary are shuffled together\n",
    "print(\"Shuffled y_train:\", shuffled_y_train)\n",
    "print(\"Shuffled x_train_binary:\", shuffled_x_train_binary)"
   ]
  }
 ],
 "metadata": {
  "kernelspec": {
   "display_name": "Python 3",
   "language": "python",
   "name": "python3"
  },
  "language_info": {
   "codemirror_mode": {
    "name": "ipython",
    "version": 3
   },
   "file_extension": ".py",
   "mimetype": "text/x-python",
   "name": "python",
   "nbconvert_exporter": "python",
   "pygments_lexer": "ipython3",
   "version": "3.11.5"
  }
 },
 "nbformat": 4,
 "nbformat_minor": 2
}
