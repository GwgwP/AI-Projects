{
  "cells": [
    {
      "attachments": {},
      "cell_type": "markdown",
      "metadata": {
        "id": "N4I6ThSRZlto"
      },
      "source": [
        "# Supervised classification examples w/ scikit-learn"
      ]
    },
    {
      "cell_type": "markdown",
      "metadata": {
        "id": "Y-Kio_A7bF3f"
      },
      "source": [
        "## Install scikit-learn"
      ]
    },
    {
      "cell_type": "code",
      "execution_count": null,
      "metadata": {
        "colab": {
          "base_uri": "https://localhost:8080/"
        },
        "id": "94_j_NF-MzVZ",
        "outputId": "9d0e0227-3b2d-4c30-8fb1-9551c6df83de"
      },
      "outputs": [
        {
          "name": "stdout",
          "output_type": "stream",
          "text": [
            "Requirement already satisfied: scikit-learn in /usr/local/lib/python3.10/dist-packages (1.3.2)\n",
            "Requirement already satisfied: numpy<2.0,>=1.17.3 in /usr/local/lib/python3.10/dist-packages (from scikit-learn) (1.23.5)\n",
            "Requirement already satisfied: scipy>=1.5.0 in /usr/local/lib/python3.10/dist-packages (from scikit-learn) (1.11.3)\n",
            "Requirement already satisfied: joblib>=1.1.1 in /usr/local/lib/python3.10/dist-packages (from scikit-learn) (1.3.2)\n",
            "Requirement already satisfied: threadpoolctl>=2.0.0 in /usr/local/lib/python3.10/dist-packages (from scikit-learn) (3.2.0)\n"
          ]
        }
      ],
      "source": [
        "!pip install -U scikit-learn"
      ]
    },
    {
      "cell_type": "markdown",
      "metadata": {
        "id": "J72C0D4UaAlv"
      },
      "source": [
        "## Dummy example - Exercise 15.1"
      ]
    },
    {
      "cell_type": "code",
      "execution_count": null,
      "metadata": {
        "colab": {
          "base_uri": "https://localhost:8080/"
        },
        "id": "FtWLODOyZdhY",
        "outputId": "d27dbee0-f672-40d7-e551-3a152311664a"
      },
      "outputs": [
        {
          "name": "stdout",
          "output_type": "stream",
          "text": [
            "[[0.66666667 0.33333333]]\n",
            "[0]\n"
          ]
        }
      ],
      "source": [
        "from sklearn.neighbors import KNeighborsClassifier\n",
        "\n",
        "x_train = [ [1, 0, 0], [0, 1, 1], [1, 0, 1], [1, 1, 1] ]  # data as array of vectors\n",
        "y_train = [0, 0, 1, 1] # category for every example\n",
        "\n",
        "knn = KNeighborsClassifier(n_neighbors=3) # kNN classifier with k=3\n",
        "knn.fit(x_train, y_train) # fit() takes X and Y.\n",
        "\n",
        "x = [[0, 1, 0]]  # vector to classify\n",
        "\n",
        "print(knn.predict_proba(x))  # print the probabilities for each category.\n",
        "print(knn.predict(x)) # print predicted category"
      ]
    },
    {
      "cell_type": "markdown",
      "metadata": {
        "id": "Lg9yYO2SaIkn"
      },
      "source": [
        "## scikit-learn algorithms example with the [Iris dataset](https://archive.ics.uci.edu/ml/datasets/iris)\n",
        "\n",
        "The iris dataset is a classic and very easy multi-class classification dataset. It consists of 3 different types of irises’ (Setosa, Versicolour, and Virginica) petal and sepal length, stored in a 150x4 numpy.ndarray\n",
        "\n",
        "The rows being the samples and the columns being: Sepal Length, Sepal Width, Petal Length and Petal Width."
      ]
    },
    {
      "cell_type": "code",
      "execution_count": null,
      "metadata": {
        "colab": {
          "base_uri": "https://localhost:8080/",
          "height": 423
        },
        "id": "Hm_RvEqTZvvn",
        "outputId": "3cccbdc0-d3dc-4953-f8ac-6daac2cc648f"
      },
      "outputs": [
        {
          "data": {
            "text/html": [
              "\n",
              "  <div id=\"df-c74a1526-13c0-40f5-aed6-bf8fc486e2dc\" class=\"colab-df-container\">\n",
              "    <div>\n",
              "<style scoped>\n",
              "    .dataframe tbody tr th:only-of-type {\n",
              "        vertical-align: middle;\n",
              "    }\n",
              "\n",
              "    .dataframe tbody tr th {\n",
              "        vertical-align: top;\n",
              "    }\n",
              "\n",
              "    .dataframe thead th {\n",
              "        text-align: right;\n",
              "    }\n",
              "</style>\n",
              "<table border=\"1\" class=\"dataframe\">\n",
              "  <thead>\n",
              "    <tr style=\"text-align: right;\">\n",
              "      <th></th>\n",
              "      <th>sepal length (cm)</th>\n",
              "      <th>sepal width (cm)</th>\n",
              "      <th>petal length (cm)</th>\n",
              "      <th>petal width (cm)</th>\n",
              "      <th>target</th>\n",
              "    </tr>\n",
              "  </thead>\n",
              "  <tbody>\n",
              "    <tr>\n",
              "      <th>0</th>\n",
              "      <td>5.1</td>\n",
              "      <td>3.5</td>\n",
              "      <td>1.4</td>\n",
              "      <td>0.2</td>\n",
              "      <td>0</td>\n",
              "    </tr>\n",
              "    <tr>\n",
              "      <th>1</th>\n",
              "      <td>4.9</td>\n",
              "      <td>3.0</td>\n",
              "      <td>1.4</td>\n",
              "      <td>0.2</td>\n",
              "      <td>0</td>\n",
              "    </tr>\n",
              "    <tr>\n",
              "      <th>2</th>\n",
              "      <td>4.7</td>\n",
              "      <td>3.2</td>\n",
              "      <td>1.3</td>\n",
              "      <td>0.2</td>\n",
              "      <td>0</td>\n",
              "    </tr>\n",
              "    <tr>\n",
              "      <th>3</th>\n",
              "      <td>4.6</td>\n",
              "      <td>3.1</td>\n",
              "      <td>1.5</td>\n",
              "      <td>0.2</td>\n",
              "      <td>0</td>\n",
              "    </tr>\n",
              "    <tr>\n",
              "      <th>4</th>\n",
              "      <td>5.0</td>\n",
              "      <td>3.6</td>\n",
              "      <td>1.4</td>\n",
              "      <td>0.2</td>\n",
              "      <td>0</td>\n",
              "    </tr>\n",
              "    <tr>\n",
              "      <th>...</th>\n",
              "      <td>...</td>\n",
              "      <td>...</td>\n",
              "      <td>...</td>\n",
              "      <td>...</td>\n",
              "      <td>...</td>\n",
              "    </tr>\n",
              "    <tr>\n",
              "      <th>145</th>\n",
              "      <td>6.7</td>\n",
              "      <td>3.0</td>\n",
              "      <td>5.2</td>\n",
              "      <td>2.3</td>\n",
              "      <td>2</td>\n",
              "    </tr>\n",
              "    <tr>\n",
              "      <th>146</th>\n",
              "      <td>6.3</td>\n",
              "      <td>2.5</td>\n",
              "      <td>5.0</td>\n",
              "      <td>1.9</td>\n",
              "      <td>2</td>\n",
              "    </tr>\n",
              "    <tr>\n",
              "      <th>147</th>\n",
              "      <td>6.5</td>\n",
              "      <td>3.0</td>\n",
              "      <td>5.2</td>\n",
              "      <td>2.0</td>\n",
              "      <td>2</td>\n",
              "    </tr>\n",
              "    <tr>\n",
              "      <th>148</th>\n",
              "      <td>6.2</td>\n",
              "      <td>3.4</td>\n",
              "      <td>5.4</td>\n",
              "      <td>2.3</td>\n",
              "      <td>2</td>\n",
              "    </tr>\n",
              "    <tr>\n",
              "      <th>149</th>\n",
              "      <td>5.9</td>\n",
              "      <td>3.0</td>\n",
              "      <td>5.1</td>\n",
              "      <td>1.8</td>\n",
              "      <td>2</td>\n",
              "    </tr>\n",
              "  </tbody>\n",
              "</table>\n",
              "<p>150 rows × 5 columns</p>\n",
              "</div>\n",
              "    <div class=\"colab-df-buttons\">\n",
              "\n",
              "  <div class=\"colab-df-container\">\n",
              "    <button class=\"colab-df-convert\" onclick=\"convertToInteractive('df-c74a1526-13c0-40f5-aed6-bf8fc486e2dc')\"\n",
              "            title=\"Convert this dataframe to an interactive table.\"\n",
              "            style=\"display:none;\">\n",
              "\n",
              "  <svg xmlns=\"http://www.w3.org/2000/svg\" height=\"24px\" viewBox=\"0 -960 960 960\">\n",
              "    <path d=\"M120-120v-720h720v720H120Zm60-500h600v-160H180v160Zm220 220h160v-160H400v160Zm0 220h160v-160H400v160ZM180-400h160v-160H180v160Zm440 0h160v-160H620v160ZM180-180h160v-160H180v160Zm440 0h160v-160H620v160Z\"/>\n",
              "  </svg>\n",
              "    </button>\n",
              "\n",
              "  <style>\n",
              "    .colab-df-container {\n",
              "      display:flex;\n",
              "      gap: 12px;\n",
              "    }\n",
              "\n",
              "    .colab-df-convert {\n",
              "      background-color: #E8F0FE;\n",
              "      border: none;\n",
              "      border-radius: 50%;\n",
              "      cursor: pointer;\n",
              "      display: none;\n",
              "      fill: #1967D2;\n",
              "      height: 32px;\n",
              "      padding: 0 0 0 0;\n",
              "      width: 32px;\n",
              "    }\n",
              "\n",
              "    .colab-df-convert:hover {\n",
              "      background-color: #E2EBFA;\n",
              "      box-shadow: 0px 1px 2px rgba(60, 64, 67, 0.3), 0px 1px 3px 1px rgba(60, 64, 67, 0.15);\n",
              "      fill: #174EA6;\n",
              "    }\n",
              "\n",
              "    .colab-df-buttons div {\n",
              "      margin-bottom: 4px;\n",
              "    }\n",
              "\n",
              "    [theme=dark] .colab-df-convert {\n",
              "      background-color: #3B4455;\n",
              "      fill: #D2E3FC;\n",
              "    }\n",
              "\n",
              "    [theme=dark] .colab-df-convert:hover {\n",
              "      background-color: #434B5C;\n",
              "      box-shadow: 0px 1px 3px 1px rgba(0, 0, 0, 0.15);\n",
              "      filter: drop-shadow(0px 1px 2px rgba(0, 0, 0, 0.3));\n",
              "      fill: #FFFFFF;\n",
              "    }\n",
              "  </style>\n",
              "\n",
              "    <script>\n",
              "      const buttonEl =\n",
              "        document.querySelector('#df-c74a1526-13c0-40f5-aed6-bf8fc486e2dc button.colab-df-convert');\n",
              "      buttonEl.style.display =\n",
              "        google.colab.kernel.accessAllowed ? 'block' : 'none';\n",
              "\n",
              "      async function convertToInteractive(key) {\n",
              "        const element = document.querySelector('#df-c74a1526-13c0-40f5-aed6-bf8fc486e2dc');\n",
              "        const dataTable =\n",
              "          await google.colab.kernel.invokeFunction('convertToInteractive',\n",
              "                                                    [key], {});\n",
              "        if (!dataTable) return;\n",
              "\n",
              "        const docLinkHtml = 'Like what you see? Visit the ' +\n",
              "          '<a target=\"_blank\" href=https://colab.research.google.com/notebooks/data_table.ipynb>data table notebook</a>'\n",
              "          + ' to learn more about interactive tables.';\n",
              "        element.innerHTML = '';\n",
              "        dataTable['output_type'] = 'display_data';\n",
              "        await google.colab.output.renderOutput(dataTable, element);\n",
              "        const docLink = document.createElement('div');\n",
              "        docLink.innerHTML = docLinkHtml;\n",
              "        element.appendChild(docLink);\n",
              "      }\n",
              "    </script>\n",
              "  </div>\n",
              "\n",
              "\n",
              "<div id=\"df-664a079f-e487-49bb-98e4-1a6efb746c2e\">\n",
              "  <button class=\"colab-df-quickchart\" onclick=\"quickchart('df-664a079f-e487-49bb-98e4-1a6efb746c2e')\"\n",
              "            title=\"Suggest charts\"\n",
              "            style=\"display:none;\">\n",
              "\n",
              "<svg xmlns=\"http://www.w3.org/2000/svg\" height=\"24px\"viewBox=\"0 0 24 24\"\n",
              "     width=\"24px\">\n",
              "    <g>\n",
              "        <path d=\"M19 3H5c-1.1 0-2 .9-2 2v14c0 1.1.9 2 2 2h14c1.1 0 2-.9 2-2V5c0-1.1-.9-2-2-2zM9 17H7v-7h2v7zm4 0h-2V7h2v10zm4 0h-2v-4h2v4z\"/>\n",
              "    </g>\n",
              "</svg>\n",
              "  </button>\n",
              "\n",
              "<style>\n",
              "  .colab-df-quickchart {\n",
              "      --bg-color: #E8F0FE;\n",
              "      --fill-color: #1967D2;\n",
              "      --hover-bg-color: #E2EBFA;\n",
              "      --hover-fill-color: #174EA6;\n",
              "      --disabled-fill-color: #AAA;\n",
              "      --disabled-bg-color: #DDD;\n",
              "  }\n",
              "\n",
              "  [theme=dark] .colab-df-quickchart {\n",
              "      --bg-color: #3B4455;\n",
              "      --fill-color: #D2E3FC;\n",
              "      --hover-bg-color: #434B5C;\n",
              "      --hover-fill-color: #FFFFFF;\n",
              "      --disabled-bg-color: #3B4455;\n",
              "      --disabled-fill-color: #666;\n",
              "  }\n",
              "\n",
              "  .colab-df-quickchart {\n",
              "    background-color: var(--bg-color);\n",
              "    border: none;\n",
              "    border-radius: 50%;\n",
              "    cursor: pointer;\n",
              "    display: none;\n",
              "    fill: var(--fill-color);\n",
              "    height: 32px;\n",
              "    padding: 0;\n",
              "    width: 32px;\n",
              "  }\n",
              "\n",
              "  .colab-df-quickchart:hover {\n",
              "    background-color: var(--hover-bg-color);\n",
              "    box-shadow: 0 1px 2px rgba(60, 64, 67, 0.3), 0 1px 3px 1px rgba(60, 64, 67, 0.15);\n",
              "    fill: var(--button-hover-fill-color);\n",
              "  }\n",
              "\n",
              "  .colab-df-quickchart-complete:disabled,\n",
              "  .colab-df-quickchart-complete:disabled:hover {\n",
              "    background-color: var(--disabled-bg-color);\n",
              "    fill: var(--disabled-fill-color);\n",
              "    box-shadow: none;\n",
              "  }\n",
              "\n",
              "  .colab-df-spinner {\n",
              "    border: 2px solid var(--fill-color);\n",
              "    border-color: transparent;\n",
              "    border-bottom-color: var(--fill-color);\n",
              "    animation:\n",
              "      spin 1s steps(1) infinite;\n",
              "  }\n",
              "\n",
              "  @keyframes spin {\n",
              "    0% {\n",
              "      border-color: transparent;\n",
              "      border-bottom-color: var(--fill-color);\n",
              "      border-left-color: var(--fill-color);\n",
              "    }\n",
              "    20% {\n",
              "      border-color: transparent;\n",
              "      border-left-color: var(--fill-color);\n",
              "      border-top-color: var(--fill-color);\n",
              "    }\n",
              "    30% {\n",
              "      border-color: transparent;\n",
              "      border-left-color: var(--fill-color);\n",
              "      border-top-color: var(--fill-color);\n",
              "      border-right-color: var(--fill-color);\n",
              "    }\n",
              "    40% {\n",
              "      border-color: transparent;\n",
              "      border-right-color: var(--fill-color);\n",
              "      border-top-color: var(--fill-color);\n",
              "    }\n",
              "    60% {\n",
              "      border-color: transparent;\n",
              "      border-right-color: var(--fill-color);\n",
              "    }\n",
              "    80% {\n",
              "      border-color: transparent;\n",
              "      border-right-color: var(--fill-color);\n",
              "      border-bottom-color: var(--fill-color);\n",
              "    }\n",
              "    90% {\n",
              "      border-color: transparent;\n",
              "      border-bottom-color: var(--fill-color);\n",
              "    }\n",
              "  }\n",
              "</style>\n",
              "\n",
              "  <script>\n",
              "    async function quickchart(key) {\n",
              "      const quickchartButtonEl =\n",
              "        document.querySelector('#' + key + ' button');\n",
              "      quickchartButtonEl.disabled = true;  // To prevent multiple clicks.\n",
              "      quickchartButtonEl.classList.add('colab-df-spinner');\n",
              "      try {\n",
              "        const charts = await google.colab.kernel.invokeFunction(\n",
              "            'suggestCharts', [key], {});\n",
              "      } catch (error) {\n",
              "        console.error('Error during call to suggestCharts:', error);\n",
              "      }\n",
              "      quickchartButtonEl.classList.remove('colab-df-spinner');\n",
              "      quickchartButtonEl.classList.add('colab-df-quickchart-complete');\n",
              "    }\n",
              "    (() => {\n",
              "      let quickchartButtonEl =\n",
              "        document.querySelector('#df-664a079f-e487-49bb-98e4-1a6efb746c2e button');\n",
              "      quickchartButtonEl.style.display =\n",
              "        google.colab.kernel.accessAllowed ? 'block' : 'none';\n",
              "    })();\n",
              "  </script>\n",
              "</div>\n",
              "    </div>\n",
              "  </div>\n"
            ],
            "text/plain": [
              "     sepal length (cm)  sepal width (cm)  petal length (cm)  petal width (cm)  \\\n",
              "0                  5.1               3.5                1.4               0.2   \n",
              "1                  4.9               3.0                1.4               0.2   \n",
              "2                  4.7               3.2                1.3               0.2   \n",
              "3                  4.6               3.1                1.5               0.2   \n",
              "4                  5.0               3.6                1.4               0.2   \n",
              "..                 ...               ...                ...               ...   \n",
              "145                6.7               3.0                5.2               2.3   \n",
              "146                6.3               2.5                5.0               1.9   \n",
              "147                6.5               3.0                5.2               2.0   \n",
              "148                6.2               3.4                5.4               2.3   \n",
              "149                5.9               3.0                5.1               1.8   \n",
              "\n",
              "     target  \n",
              "0         0  \n",
              "1         0  \n",
              "2         0  \n",
              "3         0  \n",
              "4         0  \n",
              "..      ...  \n",
              "145       2  \n",
              "146       2  \n",
              "147       2  \n",
              "148       2  \n",
              "149       2  \n",
              "\n",
              "[150 rows x 5 columns]"
            ]
          },
          "execution_count": 3,
          "metadata": {},
          "output_type": "execute_result"
        }
      ],
      "source": [
        "from sklearn.datasets import load_iris\n",
        "from sklearn.model_selection import train_test_split\n",
        "import pandas as pd\n",
        "import numpy as np\n",
        "\n",
        "iris_data = load_iris(as_frame=True)\n",
        "iris_data.frame"
      ]
    },
    {
      "cell_type": "code",
      "execution_count": null,
      "metadata": {
        "colab": {
          "base_uri": "https://localhost:8080/"
        },
        "id": "AYFBVf3_eIhv",
        "outputId": "339bb2cb-30ee-4639-cbb4-1307355e4370"
      },
      "outputs": [
        {
          "name": "stdout",
          "output_type": "stream",
          "text": [
            "(100, 4) (100,)\n",
            "(30, 4) (30,)\n",
            "(20, 4) (20,)\n"
          ]
        }
      ],
      "source": [
        "# split initial data into train and test (50 examples for test)\n",
        "X_train, X_test, y_train, y_test = train_test_split(iris_data.data.to_numpy(),\n",
        "                                                    iris_data.target.to_numpy(),\n",
        "                                                    test_size=20)\n",
        "\n",
        "\n",
        "# split rest of the train data into train and dev\n",
        "X_train, X_dev, y_train, y_dev = train_test_split(X_train, y_train,\n",
        "                                                  test_size=30)\n",
        "\n",
        "print(X_train.shape, y_train.shape)  # print the dimensions of the arrays\n",
        "print(X_dev.shape, y_dev.shape)  # print the dimensions of the arrays\n",
        "print(X_test.shape, y_test.shape)  # print the dimensions of the arrays"
      ]
    },
    {
      "cell_type": "markdown",
      "metadata": {
        "id": "R7OKCBCw60UE"
      },
      "source": [
        "### Naive Bayes"
      ]
    },
    {
      "cell_type": "code",
      "execution_count": null,
      "metadata": {
        "colab": {
          "base_uri": "https://localhost:8080/"
        },
        "id": "VetmtUms6uG1",
        "outputId": "35f69dbd-9447-4708-b5b1-44bfb8e66fd8"
      },
      "outputs": [
        {
          "name": "stdout",
          "output_type": "stream",
          "text": [
            "              precision    recall  f1-score   support\n",
            "\n",
            "           0       1.00      1.00      1.00        34\n",
            "           1       0.94      0.94      0.94        31\n",
            "           2       0.94      0.94      0.94        35\n",
            "\n",
            "    accuracy                           0.96       100\n",
            "   macro avg       0.96      0.96      0.96       100\n",
            "weighted avg       0.96      0.96      0.96       100\n",
            "\n",
            "              precision    recall  f1-score   support\n",
            "\n",
            "           0       1.00      1.00      1.00         6\n",
            "           1       1.00      0.75      0.86         8\n",
            "           2       0.75      1.00      0.86         6\n",
            "\n",
            "    accuracy                           0.90        20\n",
            "   macro avg       0.92      0.92      0.90        20\n",
            "weighted avg       0.93      0.90      0.90        20\n",
            "\n"
          ]
        }
      ],
      "source": [
        "from sklearn.naive_bayes import GaussianNB\n",
        "from sklearn.metrics import classification_report\n",
        "\n",
        "nb = GaussianNB()\n",
        "nb.fit(X_train, y_train)\n",
        "print(classification_report(y_train, nb.predict(X_train),\n",
        "                            zero_division=1))\n",
        "print(classification_report(y_test, nb.predict(X_test),\n",
        "                            zero_division=1))"
      ]
    },
    {
      "cell_type": "markdown",
      "metadata": {
        "id": "ZAc5CHFw7T5e"
      },
      "source": [
        "### Decision Tree"
      ]
    },
    {
      "cell_type": "code",
      "execution_count": null,
      "metadata": {
        "colab": {
          "base_uri": "https://localhost:8080/"
        },
        "id": "Kgeu0uFe7P5F",
        "outputId": "0b1fc932-c2d1-42d6-fd8a-5ef6351f1735"
      },
      "outputs": [
        {
          "name": "stdout",
          "output_type": "stream",
          "text": [
            "              precision    recall  f1-score   support\n",
            "\n",
            "           0       1.00      1.00      1.00        34\n",
            "           1       1.00      1.00      1.00        31\n",
            "           2       1.00      1.00      1.00        35\n",
            "\n",
            "    accuracy                           1.00       100\n",
            "   macro avg       1.00      1.00      1.00       100\n",
            "weighted avg       1.00      1.00      1.00       100\n",
            "\n",
            "              precision    recall  f1-score   support\n",
            "\n",
            "           0       1.00      1.00      1.00         6\n",
            "           1       1.00      0.75      0.86         8\n",
            "           2       0.75      1.00      0.86         6\n",
            "\n",
            "    accuracy                           0.90        20\n",
            "   macro avg       0.92      0.92      0.90        20\n",
            "weighted avg       0.93      0.90      0.90        20\n",
            "\n"
          ]
        }
      ],
      "source": [
        "from sklearn.tree import DecisionTreeClassifier\n",
        "\n",
        "dt = DecisionTreeClassifier(criterion='entropy')\n",
        "dt.fit(X_train, y_train)\n",
        "print(classification_report(y_train, dt.predict(X_train),\n",
        "                            zero_division=1))\n",
        "print(classification_report(y_test, dt.predict(X_test),\n",
        "                            zero_division=1))"
      ]
    },
    {
      "cell_type": "markdown",
      "metadata": {
        "id": "-anMneib7ge8"
      },
      "source": [
        "### Random Forest"
      ]
    },
    {
      "cell_type": "code",
      "execution_count": null,
      "metadata": {
        "colab": {
          "base_uri": "https://localhost:8080/"
        },
        "id": "YQziyfIn70xu",
        "outputId": "b78b01c0-63c4-4e81-b875-b196588dc89d"
      },
      "outputs": [
        {
          "name": "stdout",
          "output_type": "stream",
          "text": [
            "              precision    recall  f1-score   support\n",
            "\n",
            "           0       1.00      1.00      1.00        34\n",
            "           1       1.00      1.00      1.00        31\n",
            "           2       1.00      1.00      1.00        35\n",
            "\n",
            "    accuracy                           1.00       100\n",
            "   macro avg       1.00      1.00      1.00       100\n",
            "weighted avg       1.00      1.00      1.00       100\n",
            "\n",
            "              precision    recall  f1-score   support\n",
            "\n",
            "           0       1.00      1.00      1.00         6\n",
            "           1       1.00      0.75      0.86         8\n",
            "           2       0.75      1.00      0.86         6\n",
            "\n",
            "    accuracy                           0.90        20\n",
            "   macro avg       0.92      0.92      0.90        20\n",
            "weighted avg       0.93      0.90      0.90        20\n",
            "\n"
          ]
        }
      ],
      "source": [
        "from sklearn.ensemble import RandomForestClassifier\n",
        "\n",
        "rf = RandomForestClassifier(criterion='entropy')\n",
        "rf.fit(X_train, y_train)\n",
        "print(classification_report(y_train, rf.predict(X_train),\n",
        "                            zero_division=1))\n",
        "print(classification_report(y_test, rf.predict(X_test),\n",
        "                            zero_division=1))"
      ]
    },
    {
      "cell_type": "markdown",
      "metadata": {
        "id": "h7rBd1X578cs"
      },
      "source": [
        "### AdaBoost"
      ]
    },
    {
      "cell_type": "code",
      "execution_count": null,
      "metadata": {
        "colab": {
          "base_uri": "https://localhost:8080/"
        },
        "id": "LJszg-Hi8B5j",
        "outputId": "1bc73fb4-f82e-4294-8fc4-fc3f3238f64f"
      },
      "outputs": [
        {
          "name": "stdout",
          "output_type": "stream",
          "text": [
            "              precision    recall  f1-score   support\n",
            "\n",
            "           0       1.00      1.00      1.00        34\n",
            "           1       0.89      1.00      0.94        31\n",
            "           2       1.00      0.89      0.94        35\n",
            "\n",
            "    accuracy                           0.96       100\n",
            "   macro avg       0.96      0.96      0.96       100\n",
            "weighted avg       0.96      0.96      0.96       100\n",
            "\n",
            "              precision    recall  f1-score   support\n",
            "\n",
            "           0       1.00      1.00      1.00         6\n",
            "           1       1.00      0.75      0.86         8\n",
            "           2       0.75      1.00      0.86         6\n",
            "\n",
            "    accuracy                           0.90        20\n",
            "   macro avg       0.92      0.92      0.90        20\n",
            "weighted avg       0.93      0.90      0.90        20\n",
            "\n"
          ]
        }
      ],
      "source": [
        "from sklearn.ensemble import AdaBoostClassifier\n",
        "\n",
        "ab = AdaBoostClassifier()\n",
        "ab.fit(X_train, y_train)\n",
        "print(classification_report(y_train, ab.predict(X_train),\n",
        "                            zero_division=1))\n",
        "print(classification_report(y_test, ab.predict(X_test),\n",
        "                            zero_division=1))"
      ]
    },
    {
      "cell_type": "markdown",
      "metadata": {
        "id": "9_C9RIuA8Y70"
      },
      "source": [
        "### $k$-NN with hyper-parameter tuning"
      ]
    },
    {
      "cell_type": "code",
      "execution_count": null,
      "metadata": {
        "colab": {
          "base_uri": "https://localhost:8080/"
        },
        "id": "qJ3eKOdGe4g3",
        "outputId": "edf3e531-3288-45a7-ea10-8e126e16f561"
      },
      "outputs": [
        {
          "name": "stderr",
          "output_type": "stream",
          "text": [
            "100%|██████████| 10/10 [00:00<00:00, 201.92it/s]"
          ]
        },
        {
          "name": "stdout",
          "output_type": "stream",
          "text": [
            "Best dev accuracy: 1.0\n",
            "Best K: 8\n",
            "Test accuracy: 1.0\n"
          ]
        },
        {
          "name": "stderr",
          "output_type": "stream",
          "text": [
            "\n"
          ]
        }
      ],
      "source": [
        "from sklearn.metrics import accuracy_score\n",
        "from tqdm import tqdm\n",
        "\n",
        "\n",
        "best_k = 0  # holds the best value for k\n",
        "best_dev_acc = .0  # how correct we are\n",
        "best_clf = None  # save the best classifier\n",
        "\n",
        "for k in tqdm(range(1, 11)):\n",
        "  knn = KNeighborsClassifier(n_neighbors=k)  # knn object with current k\n",
        "  knn.fit(X_train, y_train) # fit with current k in the TRAINING data...\n",
        "\n",
        "  preds = knn.predict(X_dev) # predict with current k using the DEV data...\n",
        "  acc = accuracy_score(y_dev, preds) # count accuracy\n",
        "\n",
        "  # if current accuracy is higher than the previously best...\n",
        "  if best_dev_acc == .0 or acc > best_dev_acc:\n",
        "    best_dev_acc = acc\n",
        "    best_k = k\n",
        "    best_clf = knn\n",
        "\n",
        "\n",
        "print('Best dev accuracy:', best_dev_acc)\n",
        "print('Best K:', best_k)\n",
        "\n",
        "test_preds = best_clf.predict(X_test)  # predict the test data with the best classifier...\n",
        "print('Test accuracy:', accuracy_score(y_test, test_preds))"
      ]
    },
    {
      "cell_type": "markdown",
      "metadata": {
        "id": "F4AEC_SEo-vN"
      },
      "source": [
        "## Learning Curve with scikit-learn"
      ]
    },
    {
      "cell_type": "code",
      "execution_count": null,
      "metadata": {
        "colab": {
          "base_uri": "https://localhost:8080/"
        },
        "id": "MR4CN-nno-Nl",
        "outputId": "ed51e914-2785-437e-e542-c3fa0b8fb9d6"
      },
      "outputs": [
        {
          "data": {
            "image/png": "[encoded data removed]",
            "text/plain": [
              "<Figure size 640x480 with 1 Axes>"
            ]
          },
          "metadata": {},
          "output_type": "display_data"
        },
        {
          "data": {
            "text/plain": [
              "<module 'matplotlib.pyplot' from '/usr/local/lib/python3.10/dist-packages/matplotlib/pyplot.py'>"
            ]
          },
          "execution_count": 6,
          "metadata": {},
          "output_type": "execute_result"
        }
      ],
      "source": [
        "import matplotlib.pyplot as plt\n",
        "from sklearn.metrics import make_scorer\n",
        "from sklearn.model_selection import learning_curve\n",
        "\n",
        "def plot_learning_curve(estimator, title,\n",
        "                        X_for_val, y_for_val,\n",
        "                        X_for_test=None, y_for_test=None,\n",
        "                        ylim=None,\n",
        "                        val_cv=None,\n",
        "                        test_cv=None,\n",
        "                        train_sizes=np.linspace(.1, 1.0, 5)):\n",
        "\n",
        "    plt.figure()\n",
        "    plt.title(title)\n",
        "    if ylim is not None:\n",
        "        plt.ylim(*ylim)\n",
        "    plt.xlabel(\"Training examples\")\n",
        "    plt.ylabel(\"Accuracy\")\n",
        "    # print(train_sizes)\n",
        "    train_sizes, train_scores, val_scores = learning_curve(\n",
        "        estimator,\n",
        "        X_for_val, y_for_val,\n",
        "        cv=val_cv, n_jobs=-1, scoring='accuracy',\n",
        "        train_sizes=train_sizes)\n",
        "\n",
        "    # print(train_sizes)\n",
        "\n",
        "    train_scores_mean = np.mean(train_scores, axis=1)\n",
        "    train_scores_std = np.std(train_scores, axis=1)\n",
        "    val_scores_mean = np.mean(val_scores, axis=1)\n",
        "    val_scores_std = np.std(val_scores, axis=1)\n",
        "\n",
        "    plt.fill_between(train_sizes, train_scores_mean - train_scores_std,\n",
        "                     train_scores_mean + train_scores_std, alpha=0.1,\n",
        "                     color=\"b\")\n",
        "    plt.fill_between(train_sizes, val_scores_mean - val_scores_std,\n",
        "                     val_scores_mean + val_scores_std, alpha=0.1,\n",
        "                     color=\"green\")\n",
        "    plt.plot(train_sizes, train_scores_mean, 'o-', color=\"b\",\n",
        "             label=\"Training score\")\n",
        "    plt.plot(train_sizes, val_scores_mean, 'o-', color=\"green\",\n",
        "             label=\"Validation score\")\n",
        "\n",
        "\n",
        "    # _, _, test_scores = learning_curve(estimator,\n",
        "    #                                    X_for_test, y_for_test,\n",
        "    #                                    cv=test_cv, n_jobs=-1,\n",
        "    #                                    scoring='accuracy',\n",
        "    #                                    train_sizes=train_sizes)\n",
        "\n",
        "\n",
        "    # test_scores_mean = np.mean(test_scores, axis=1)\n",
        "    # test_scores_std = np.std(test_scores, axis=1)\n",
        "    # plt.grid()\n",
        "\n",
        "\n",
        "    # plt.fill_between(train_sizes, test_scores_mean - test_scores_std,\n",
        "    #                  test_scores_mean + test_scores_std, alpha=0.1,\n",
        "    #                  color=\"red\")\n",
        "\n",
        "    # plt.plot(train_sizes, test_scores_mean, 'o-', color=\"red\",\n",
        "    #          label=\"Test score\")\n",
        "\n",
        "    plt.legend(loc=\"lower right\")\n",
        "    plt.show()\n",
        "    return plt\n",
        "\n",
        "plot_learning_curve(estimator=best_clf, title='Learning Curve',\n",
        "                    X_for_val=np.concatenate((X_train, X_dev), axis=0),\n",
        "                    y_for_val=np.concatenate((y_train, y_dev), axis=0),\n",
        "                    val_cv=None)\n",
        "\n",
        "# plt.savefig('curve.png', bbox_inches='tight')\n",
        "# plt.show()"
      ]
    },
    {
      "cell_type": "markdown",
      "metadata": {
        "id": "IUX7MiDthPZP"
      },
      "source": [
        "## custom k-NN example"
      ]
    },
    {
      "cell_type": "code",
      "execution_count": null,
      "metadata": {
        "id": "HQHI1_BNhK1e"
      },
      "outputs": [],
      "source": [
        "from statistics import mode\n",
        "\n",
        "class KNN:\n",
        "  def __init__(self, k):\n",
        "    self.k = k\n",
        "    self.x_train, self.y_train = None, None\n",
        "\n",
        "  @staticmethod\n",
        "  def calculate_distance(x, y):\n",
        "    return np.linalg.norm(x - y)  # euclidean distance\n",
        "\n",
        "  def fit(self, x, y):\n",
        "    self.x_train = x\n",
        "    self.y_train = y\n",
        "\n",
        "  def predict(self, x):\n",
        "    predicted_classes = list()\n",
        "\n",
        "    for unlabeled in x:\n",
        "      distances = list()\n",
        "\n",
        "      for i in range(len(self.x_train)):\n",
        "        d = self.calculate_distance(self.x_train[i], unlabeled) # distance\n",
        "        distances.append(d)\n",
        "\n",
        "      distances = np.array(distances)\n",
        "      top_k_idx = np.argsort(distances)[:self.k]  # take k closer\n",
        "\n",
        "      y = self.y_train[top_k_idx]\n",
        "\n",
        "      predicted_classes.append(mode(y))  # majority voting\n",
        "\n",
        "    return np.array(predicted_classes)"
      ]
    },
    {
      "cell_type": "code",
      "execution_count": null,
      "metadata": {
        "colab": {
          "base_uri": "https://localhost:8080/"
        },
        "id": "b4ohkMYem_b-",
        "outputId": "9179f1ca-0295-4235-e34c-1ed73a79b818"
      },
      "outputs": [
        {
          "name": "stderr",
          "output_type": "stream",
          "text": [
            "100%|██████████| 10/10 [00:00<00:00, 63.11it/s]"
          ]
        },
        {
          "name": "stdout",
          "output_type": "stream",
          "text": [
            "\n",
            "Best dev accuracy: 1.0\n",
            "Best K: 8\n",
            "Test accuracy: 1.0\n"
          ]
        },
        {
          "name": "stderr",
          "output_type": "stream",
          "text": [
            "\n"
          ]
        }
      ],
      "source": [
        "for k in tqdm(range(1, 11)):\n",
        "  knn = KNN(k=k)  # knn object with current k\n",
        "  knn.fit(X_train, y_train) # fit with current k in the TRAINING data...\n",
        "\n",
        "  preds = knn.predict(X_dev) # predict with current k using the DEV data...\n",
        "  acc = accuracy_score(y_dev, preds) # count accuracy\n",
        "\n",
        "  # if current accuracy is higher than the previously best...\n",
        "  if best_dev_acc == .0 or acc > best_dev_acc:\n",
        "    best_dev_acc = acc\n",
        "    best_k = k\n",
        "    best_clf = knn\n",
        "\n",
        "\n",
        "print('\\nBest dev accuracy:', best_dev_acc)\n",
        "print('Best K:', best_k)\n",
        "\n",
        "test_preds = best_clf.predict(X_test)  # predict the test data with the best classifier...\n",
        "print('Test accuracy:', accuracy_score(y_test, test_preds))"
      ]
    },
    {
      "cell_type": "markdown",
      "metadata": {
        "id": "-eVZ5CPYt4Ys"
      },
      "source": [
        "## Custom Learning Curves"
      ]
    },
    {
      "cell_type": "code",
      "execution_count": null,
      "metadata": {
        "colab": {
          "base_uri": "https://localhost:8080/",
          "height": 631
        },
        "id": "jVhXFiNtt3-d",
        "outputId": "1b58319e-eb94-41d1-9bdb-41285717d4c9"
      },
      "outputs": [
        {
          "name": "stdout",
          "output_type": "stream",
          "text": [
            "(20, 4)\n",
            "(20,)\n",
            "(40, 4)\n",
            "(40,)\n",
            "(60, 4)\n",
            "(60,)\n",
            "(80, 4)\n",
            "(80,)\n",
            "(100, 4)\n",
            "(100,)\n"
          ]
        },
        {
          "data": {
            "image/png": "[encoded data removed]",
            "text/plain": [
              "<Figure size 640x480 with 1 Axes>"
            ]
          },
          "metadata": {},
          "output_type": "display_data"
        }
      ],
      "source": [
        "def custom_learning_curve(x_train, y_train,\n",
        "                          x_val, y_val, x_test, y_test,\n",
        "                          n_splits):\n",
        "\n",
        "  split_size = int(len(x_train) / n_splits)\n",
        "  x_splits = np.split(x_train, n_splits) # must be equal division\n",
        "  y_splits = np.split(y_train, n_splits)\n",
        "  train_accuracies = list()\n",
        "  val_accuracies = list()\n",
        "  test_accuracies = list()\n",
        "  curr_x = x_splits[0]\n",
        "  print(curr_x.shape)\n",
        "  curr_y = y_splits[0]\n",
        "  print(curr_y.shape)\n",
        "  knn = KNeighborsClassifier(n_neighbors=best_k)\n",
        "  knn.fit(curr_x, curr_y)\n",
        "  train_accuracies.append(accuracy_score(curr_y,\n",
        "                                         knn.predict(curr_x)))\n",
        "\n",
        "  val_accuracies.append(accuracy_score(y_val, knn.predict(x_val)))\n",
        "  test_accuracies.append(accuracy_score(y_test, knn.predict(x_test)))\n",
        "\n",
        "  for i in range(1, len(x_splits)):\n",
        "    knn = KNeighborsClassifier(n_neighbors=best_k)\n",
        "    curr_x = np.concatenate((curr_x, x_splits[i]), axis=0)\n",
        "    print(curr_x.shape)\n",
        "    curr_y = np.concatenate((curr_y, y_splits[i]), axis=0)\n",
        "    print(curr_y.shape)\n",
        "    knn.fit(curr_x, curr_y)\n",
        "\n",
        "    train_accuracies.append(accuracy_score(curr_y,\n",
        "                                           knn.predict(curr_x)))\n",
        "\n",
        "    val_accuracies.append(accuracy_score(y_val, knn.predict(x_val)))\n",
        "\n",
        "    test_accuracies.append(accuracy_score(y_test, knn.predict(x_test)))\n",
        "\n",
        "  plt.plot(list(range(split_size, len(x_train) + split_size,\n",
        "                      split_size)), train_accuracies, 'o-', color=\"b\",\n",
        "             label=\"Training accuracy\")\n",
        "  plt.plot(list(range(split_size, len(x_train) + split_size,\n",
        "                      split_size)), val_accuracies, 'o-', color=\"green\",\n",
        "           label=\"Validation accuracy\")\n",
        "  plt.plot(list(range(split_size, len(x_train) + split_size,\n",
        "                      split_size)), test_accuracies, 'o-', color=\"red\",\n",
        "           label=\"Testing accuracy\")\n",
        "  plt.legend(loc=\"lower right\")\n",
        "  plt.xlabel('Percentage of data')\n",
        "  plt.ylabel('Accuracy')\n",
        "  plt.show()\n",
        "\n",
        "custom_learning_curve(x_train=X_train, y_train=y_train,\n",
        "                      x_val=X_dev, y_val=y_dev, x_test=X_test,\n",
        "                      y_test=y_test, n_splits=5)"
      ]
    }
  ],
  "metadata": {
    "colab": {
      "provenance": []
    },
    "kernelspec": {
      "display_name": "Python 3.9.13 ('base')",
      "language": "python",
      "name": "python3"
    },
    "language_info": {
      "name": "python",
      "version": "3.9.13"
    },
    "vscode": {
      "interpreter": {
        "hash": "2fb08141633190d4fb0983031120c8359c07c834616de55bb5019f105ecf7dc9"
      }
    }
  },
  "nbformat": 4,
  "nbformat_minor": 0
}
